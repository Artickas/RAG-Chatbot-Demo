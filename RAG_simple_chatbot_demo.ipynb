{
 "cells": [
  {
   "cell_type": "markdown",
   "id": "3cbf5993",
   "metadata": {},
   "source": [
    "# RAG in action: A smarter customer support chatbot\n",
    "\n",
    "This Jupyter Notebook demonstrates a simplified Retrieval Augmented Generation (RAG) system, focusing on a customer support chatbot use case. Instead of relying on a pre-trained LLM's static knowledge, our chatbot will \"augment\" its responses by retrieving relevant information from a small, simulated knowledge base of product documents.\n",
    "\n",
    "We'll create a few dummy text files to represent our product documentation, then build a simple RAG pipeline to answer user queries using this external knowledge.\n",
    "\n",
    "## 1. Setting up our simulated knowledge base\n",
    "\n",
    "First, let's create some dummy text files that our RAG system will \"read\" to build its knowledge base. These files will represent different parts of our fictional \"XYZ Product\" documentation.\n",
    "\n",
    "We'll use Python to write these files directly."
   ]
  },
  {
   "cell_type": "code",
   "execution_count": 1,
   "id": "d5292772",
   "metadata": {},
   "outputs": [
    {
     "name": "stdout",
     "output_type": "stream",
     "text": [
      "Created: product_docs\\product_manual_xyz.txt\n",
      "Created: product_docs\\faq_warranty.txt\n",
      "Created: product_docs\\troubleshooting_guide.txt\n"
     ]
    }
   ],
   "source": [
    "import os\n",
    "\n",
    "# Define the directory for our simulated documents\n",
    "DOCS_DIR = \"product_docs\"\n",
    "os.makedirs(DOCS_DIR, exist_ok=True)\n",
    "\n",
    "# Content for our dummy product documents\n",
    "doc_contents = {\n",
    "    \"product_manual_xyz.txt\": \"\"\"\n",
    "Product Manual for XYZ Wireless Earbuds\n",
    "\n",
    "1. Introduction:\n",
    "   Welcome to your new XYZ Wireless Earbuds! These earbuds offer high-quality audio and a comfortable fit.\n",
    "\n",
    "2. Charging:\n",
    "   To charge your earbuds, place them in the charging case. The LED indicator on the case will show battery status. A full charge takes approximately 1.5 hours.\n",
    "\n",
    "3. Pairing:\n",
    "   Open the charging case. The earbuds will automatically enter pairing mode. On your device (phone/laptop), go to Bluetooth settings and select \"XYZ Earbuds\". The earbuds will emit a sound upon successful connection.\n",
    "\n",
    "4. Controls:\n",
    "   - Single tap (left/right): Play/Pause\n",
    "   - Double tap (right): Next song\n",
    "   - Double tap (left): Previous song\n",
    "   - Triple tap (left/right): Activate voice assistant\n",
    "\n",
    "5. Troubleshooting:\n",
    "   - If earbuds are not connecting, ensure they are charged and try resetting them (see section 6).\n",
    "   - If audio is distorted, check your device's volume and ensure no interference.\n",
    "\n",
    "6. Resetting the Earbuds:\n",
    "   To reset your XYZ Wireless Earbuds to factory settings, place both earbuds in the charging case. Press and hold the button on the charging case for 15 seconds until the LED light blinks red three times. Then, close the case and reopen it.\n",
    "\"\"\",\n",
    "    \"faq_warranty.txt\": \"\"\"\n",
    "Frequently Asked Questions (FAQ) - XYZ Wireless Earbuds\n",
    "\n",
    "Q: What is the warranty period for the XYZ Earbuds?\n",
    "A: The XYZ Wireless Earbuds come with a 1-year limited warranty from the date of purchase. Please retain your proof of purchase for warranty claims.\n",
    "\n",
    "Q: How do I claim warranty?\n",
    "A: To claim warranty, please visit our support page at [www.xyztech.com/support](https://www.xyztech.com/support) and fill out the warranty claim form, attaching your receipt. Our team will contact you within 2-3 business days.\n",
    "\n",
    "Q: Are the XYZ Earbuds waterproof?\n",
    "A: The XYZ Earbuds are splash-resistant (IPX4 rating), meaning they can withstand light rain and sweat. They are NOT designed for submersion in water.\n",
    "\n",
    "Q: What devices are compatible?\n",
    "A: The earbuds are compatible with any Bluetooth-enabled device, including smartphones, tablets, and laptops.\n",
    "\"\"\",\n",
    "    \"troubleshooting_guide.txt\": \"\"\"\n",
    "Troubleshooting Guide for XYZ Wireless Earbuds\n",
    "\n",
    "Issue: Earbuds not charging.\n",
    "Solution: Ensure the charging case has power. Check the charging cable and adapter. Clean the charging contacts on both earbuds and the case with a dry cotton swab. If still not charging, contact support.\n",
    "\n",
    "Issue: One earbud not working.\n",
    "Solution:\n",
    "1. Ensure both earbuds are charged.\n",
    "2. Try resetting the earbuds (refer to the product manual for instructions).\n",
    "3. Re-pair the earbuds with your device.\n",
    "4. If the issue persists, it might be a hardware problem.\n",
    "\n",
    "Issue: Low volume or distorted sound.\n",
    "Solution:\n",
    "1. Check the volume level on your connected device.\n",
    "2. Ensure there's no obstruction in the earbud's speaker grill.\n",
    "3. Try playing audio from a different source to rule out the media file.\n",
    "4. Clean the earbuds.\n",
    "\"\"\"\n",
    "}\n",
    "\n",
    "# Write the content to files\n",
    "for filename, content in doc_contents.items():\n",
    "    filepath = os.path.join(DOCS_DIR, filename)\n",
    "    with open(filepath, \"w\") as f:\n",
    "        f.write(content.strip()) # .strip() removes leading/trailing whitespace for cleaner files\n",
    "    print(f\"Created: {filepath}\")\n"
   ]
  },
  {
   "cell_type": "markdown",
   "id": "553036c4",
   "metadata": {},
   "source": [
    "## 2. Core RAG Components\n",
    "\n",
    "Now, let's define the core components of our RAG system:\n",
    "\n",
    "* `DocumentChunk`: A simple class to hold text and its embedding.\n",
    "\n",
    "* `EmbeddingModel`: A placeholder for converting text into numerical vectors (embeddings). In a real application, you'd use a pre-trained model like SentenceTransformers or an API like OpenAI's embeddings.\n",
    "\n",
    "* `VectorDatabase`: A simplified in-memory \"database\" to store our document chunks and perform similarity searches. In production, this would be a specialized vector database.\n",
    "\n",
    "* `simulated_llm`: A stand-in for a Large Language Model that generates responses based on a given prompt."
   ]
  },
  {
   "cell_type": "code",
   "execution_count": 2,
   "id": "246a27a2",
   "metadata": {},
   "outputs": [],
   "source": [
    "import numpy as np\n",
    "from typing import List, Dict, Tuple\n",
    "import glob # To find our created text files\n",
    "\n",
    "class DocumentChunk:\n",
    "    \"\"\"Represents a chunk of text from our knowledge base.\"\"\"\n",
    "    def __init__(self, text: str, source_file: str, chunk_id: str):\n",
    "        self.text = text\n",
    "        self.source_file = source_file\n",
    "        self.chunk_id = chunk_id\n",
    "        self.embedding: List[float] = [] # To be filled by the embedding model\n",
    "\n",
    "    def __repr__(self):\n",
    "        return f\"DocumentChunk(id='{self.chunk_id}', source='{self.source_file}', text='{self.text[:50]}...')\"\n",
    "\n",
    "class EmbeddingModel:\n",
    "    \"\"\"\n",
    "    A conceptual embedding model.\n",
    "    In a real scenario, this would use a pre-trained model to convert text into meaningful vectors.\n",
    "    For simplicity, we're generating dummy embeddings based on a hash.\n",
    "    \"\"\"\n",
    "    def get_embedding(self, text: str) -> List[float]:\n",
    "        # Generating a very simple, non-semantic dummy embedding\n",
    "        # In a real application, use a library like 'sentence-transformers' or a model API\n",
    "        np.random.seed(hash(text) % (2**32 - 1)) # Seed for reproducibility based on text\n",
    "        return np.random.rand(768).tolist() # Return a list of 768 random floats\n",
    "\n",
    "    def cosine_similarity(self, vec1: List[float], vec2: List[float]) -> float:\n",
    "        \"\"\"Calculates cosine similarity between two vectors.\"\"\"\n",
    "        vec1_np = np.array(vec1)\n",
    "        vec2_np = np.array(vec2)\n",
    "        dot_product = np.dot(vec1_np, vec2_np)\n",
    "        norm_vec1 = np.linalg.norm(vec1_np)\n",
    "        norm_vec2 = np.linalg.norm(vec2_np)\n",
    "        if norm_vec1 == 0 or norm_vec2 == 0:\n",
    "            return 0.0 # Avoid division by zero\n",
    "        return dot_product / (norm_vec1 * norm_vec2)\n",
    "\n",
    "class VectorDatabase:\n",
    "    \"\"\"\n",
    "    A highly simplified in-memory vector database.\n",
    "    In a real system, this would be a dedicated vector database for efficient large-scale search.\n",
    "    \"\"\"\n",
    "    def __init__(self, embedding_model: EmbeddingModel):\n",
    "        self.store: Dict[str, DocumentChunk] = {}\n",
    "        self.embedding_model = embedding_model\n",
    "        self._chunk_counter = 0\n",
    "\n",
    "    def add_document(self, filepath: str):\n",
    "        \"\"\"Reads a file, chunks its content, and adds to the store with embeddings.\"\"\"\n",
    "        with open(filepath, 'r') as f:\n",
    "            full_text = f.read()\n",
    "\n",
    "        # Simple chunking: split by paragraphs or double newlines\n",
    "        # For more advanced chunking, consider libraries like LangChain's TextSplitter\n",
    "        chunks = [c.strip() for c in full_text.split('\\n\\n') if c.strip()]\n",
    "        \n",
    "        print(f\"Processing {len(chunks)} chunks from {filepath}...\")\n",
    "        for i, text in enumerate(chunks):\n",
    "            chunk_id = f\"{os.path.basename(filepath).replace('.', '_')}_chunk_{self._chunk_counter}\"\n",
    "            doc_chunk = DocumentChunk(text=text, source_file=filepath, chunk_id=chunk_id)\n",
    "            doc_chunk.embedding = self.embedding_model.get_embedding(text)\n",
    "            self.store[chunk_id] = doc_chunk\n",
    "            self._chunk_counter += 1\n",
    "        print(f\"Finished processing {filepath}.\")\n",
    "\n",
    "\n",
    "    def find_similar_chunks(self, query_embedding: List[float], top_k: int = 3) -> List[Tuple[DocumentChunk, float]]:\n",
    "        \"\"\"\n",
    "        Finds the top_k most similar document chunks to the query embedding.\n",
    "        Returns a list of (DocumentChunk, similarity_score) tuples.\n",
    "        \"\"\"\n",
    "        if not self.store:\n",
    "            return []\n",
    "\n",
    "        similarities = []\n",
    "        for chunk_id, chunk in self.store.items():\n",
    "            if chunk.embedding:\n",
    "                score = self.embedding_model.cosine_similarity(query_embedding, chunk.embedding)\n",
    "                similarities.append((chunk, score))\n",
    "        \n",
    "        # Sort by similarity score in descending order\n",
    "        similarities.sort(key=lambda x: x[1], reverse=True)\n",
    "        return similarities[:top_k]\n",
    "\n",
    "def simulated_llm(prompt: str) -> str:\n",
    "    \"\"\"\n",
    "    A simplified Large Language Model (LLM) stand-in.\n",
    "    In a real application, this would be an API call to a powerful LLM.\n",
    "    It tries to give a slightly more \"aware\" response if relevant keywords are in the prompt context.\n",
    "    \"\"\"\n",
    "    prompt_lower = prompt.lower()\n",
    "\n",
    "    if \"reset\" in prompt_lower and \"xyz wireless earbuds\" in prompt_lower and \"button\" in prompt_lower:\n",
    "        return \"Based on the provided information, to reset your XYZ Wireless Earbuds, place both earbuds in the charging case, then press and hold the button on the charging case for 15 seconds until the LED light blinks red three times. After that, close the case and reopen it.\"\n",
    "    elif \"warranty\" in prompt_lower and \"xyz wireless earbuds\" in prompt_lower and \"1-year\" in prompt_lower:\n",
    "        return \"The XYZ Wireless Earbuds come with a 1-year limited warranty from the date of purchase. Remember to keep your proof of purchase for any warranty claims.\"\n",
    "    elif \"pairing\" in prompt_lower and \"bluetooth\" in prompt_lower:\n",
    "        return \"According to the manual, to pair your XYZ Earbuds, open the charging case to enter pairing mode. Then, go to your device's Bluetooth settings and select 'XYZ Earbuds'.\"\n",
    "    elif \"waterproof\" in prompt_lower or \"submersion\" in prompt_lower:\n",
    "        return \"The XYZ Earbuds are splash-resistant (IPX4 rating) and can handle light rain or sweat. However, they are NOT designed for submersion in water.\"\n",
    "    elif \"low volume\" in prompt_lower or \"distorted sound\" in prompt_lower:\n",
    "        return \"If you're experiencing low volume or distorted sound, check your device's volume, ensure no obstruction in the earbud's speaker grill, and try playing audio from a different source. Cleaning the earbuds might also help.\"\n",
    "    else:\n",
    "        return \"I couldn't find specific information about that in my current knowledge base. Could you please rephrase your question or provide more details? You can also visit our website for comprehensive support.\"\n",
    "\n"
   ]
  },
  {
   "cell_type": "markdown",
   "id": "77bd61a1",
   "metadata": {},
   "source": [
    "## 3. Ingesting Documents into the Vector Database\n",
    "\n",
    "Now, let's load the content from our simulated text files into our `VectorDatabase`. Each relevant section will be turned into a `DocumentChunk` and embedded."
   ]
  },
  {
   "cell_type": "code",
   "execution_count": 3,
   "id": "2df801fd",
   "metadata": {},
   "outputs": [
    {
     "name": "stdout",
     "output_type": "stream",
     "text": [
      "Processing 5 chunks from product_docs\\faq_warranty.txt...\n",
      "Finished processing product_docs\\faq_warranty.txt.\n",
      "Processing 7 chunks from product_docs\\product_manual_xyz.txt...\n",
      "Finished processing product_docs\\product_manual_xyz.txt.\n",
      "Processing 4 chunks from product_docs\\troubleshooting_guide.txt...\n",
      "Finished processing product_docs\\troubleshooting_guide.txt.\n",
      "\n",
      "Knowledge base built with 16 chunks from 3 files.\n"
     ]
    }
   ],
   "source": [
    "# Initialize the embedding model and vector database\n",
    "embedding_model = EmbeddingModel()\n",
    "vector_db = VectorDatabase(embedding_model)\n",
    "\n",
    "# Find all text files in our DOCS_DIR\n",
    "document_files = glob.glob(os.path.join(DOCS_DIR, \"*.txt\"))\n",
    "\n",
    "# Add each document to our vector database\n",
    "if document_files:\n",
    "    for doc_file in document_files:\n",
    "        vector_db.add_document(doc_file)\n",
    "    print(f\"\\nKnowledge base built with {len(vector_db.store)} chunks from {len(document_files)} files.\")\n",
    "else:\n",
    "    print(\"No document files found. Please ensure files were created correctly.\")\n"
   ]
  },
  {
   "cell_type": "markdown",
   "id": "6ec1062d",
   "metadata": {},
   "source": [
    "## 4. The RAG Chatbot Function\n",
    "\n",
    "This function ties everything together:\n",
    "\n",
    "1. Takes a user query.\n",
    "\n",
    "2. Embeds the query.\n",
    "\n",
    "3. Retrieves the most similar document chunks.\n",
    "\n",
    "4. Constructs an augmented prompt for the LLM.\n",
    "\n",
    "5. Calls the simulated LLM and returns the response."
   ]
  },
  {
   "cell_type": "code",
   "execution_count": 4,
   "id": "689d74e9",
   "metadata": {},
   "outputs": [],
   "source": [
    "def rag_chatbot_query(user_query: str, top_k_chunks: int = 2):\n",
    "    \"\"\"\n",
    "    Main RAG chatbot function.\n",
    "    Processes a user query by retrieving relevant context and augmenting an LLM prompt.\n",
    "    \"\"\"\n",
    "    print(f\"\\n--- User Query: {user_query} ---\")\n",
    "\n",
    "    # 1. Embed the user's query\n",
    "    query_embedding = embedding_model.get_embedding(user_query)\n",
    "    print(\"Query embedded.\")\n",
    "\n",
    "    # 2. Retrieve relevant chunks from the vector database\n",
    "    # Get (chunk, similarity_score) tuples\n",
    "    relevant_chunks_with_scores = vector_db.find_similar_chunks(query_embedding, top_k=top_k_chunks)\n",
    "    \n",
    "    if not relevant_chunks_with_scores:\n",
    "        print(\"No relevant chunks found.\")\n",
    "        context = \"No specific context found in the knowledge base.\"\n",
    "    else:\n",
    "        print(f\"Retrieved {len(relevant_chunks_with_scores)} relevant chunks:\")\n",
    "        for chunk, score in relevant_chunks_with_scores:\n",
    "            print(f\"  - Source: {chunk.source_file}, Score: {score:.4f}, Text: '{chunk.text[:100]}...'\")\n",
    "        \n",
    "        # 3. Augment the prompt with retrieved context\n",
    "        context = \"\\n\\n\".join([chunk.text for chunk, _ in relevant_chunks_with_scores])\n",
    "\n",
    "    # Construct the augmented prompt for the LLM\n",
    "    augmented_prompt = f\"\"\"\n",
    "You are a helpful customer support assistant for XYZ Wireless Earbuds.\n",
    "Use ONLY the following pieces of context to answer the question.\n",
    "If the answer is not found in the context, politely state that you don't have enough information.\n",
    "\n",
    "Context:\n",
    "{context}\n",
    "\n",
    "Question: {user_query}\n",
    "\n",
    "Answer:\n",
    "\"\"\"\n",
    "    print(\"\\n--- Augmented Prompt for LLM (truncated for display) ---\")\n",
    "    print(augmented_prompt[:500] + \"...\" if len(augmented_prompt) > 500 else augmented_prompt)\n",
    "\n",
    "    # 4. Generate the response using the LLM\n",
    "    response = simulated_llm(augmented_prompt)\n",
    "    print(\"\\n--- Chatbot's Response ---\")\n",
    "    print(response)\n",
    "    print(\"-\" * 50)\n",
    "    return response\n",
    "\n"
   ]
  },
  {
   "cell_type": "markdown",
   "id": "d9a1b72c",
   "metadata": {},
   "source": [
    "## 5. Testing Our RAG Chatbot\n",
    "\n",
    "Let's ask our RAG chatbot some questions and see how it performs!"
   ]
  },
  {
   "cell_type": "code",
   "execution_count": 5,
   "id": "714c47f9",
   "metadata": {},
   "outputs": [
    {
     "name": "stdout",
     "output_type": "stream",
     "text": [
      "\n",
      "--- User Query: How do I reset my XYZ Wireless Earbuds? ---\n",
      "Query embedded.\n",
      "Retrieved 2 relevant chunks:\n",
      "  - Source: product_docs\\faq_warranty.txt, Score: 0.7631, Text: 'Q: What is the warranty period for the XYZ Earbuds?\n",
      "A: The XYZ Wireless Earbuds come with a 1-year l...'\n",
      "  - Source: product_docs\\faq_warranty.txt, Score: 0.7561, Text: 'Q: Are the XYZ Earbuds waterproof?\n",
      "A: The XYZ Earbuds are splash-resistant (IPX4 rating), meaning th...'\n",
      "\n",
      "--- Augmented Prompt for LLM (truncated for display) ---\n",
      "\n",
      "You are a helpful customer support assistant for XYZ Wireless Earbuds.\n",
      "Use ONLY the following pieces of context to answer the question.\n",
      "If the answer is not found in the context, politely state that you don't have enough information.\n",
      "\n",
      "Context:\n",
      "Q: What is the warranty period for the XYZ Earbuds?\n",
      "A: The XYZ Wireless Earbuds come with a 1-year limited warranty from the date of purchase. Please retain your proof of purchase for warranty claims.\n",
      "\n",
      "Q: Are the XYZ Earbuds waterproof?\n",
      "A: The XYZ Earbuds...\n",
      "\n",
      "--- Chatbot's Response ---\n",
      "The XYZ Wireless Earbuds come with a 1-year limited warranty from the date of purchase. Remember to keep your proof of purchase for any warranty claims.\n",
      "--------------------------------------------------\n"
     ]
    },
    {
     "data": {
      "text/plain": [
       "'The XYZ Wireless Earbuds come with a 1-year limited warranty from the date of purchase. Remember to keep your proof of purchase for any warranty claims.'"
      ]
     },
     "execution_count": 5,
     "metadata": {},
     "output_type": "execute_result"
    }
   ],
   "source": [
    "# Test queries\n",
    "rag_chatbot_query(\"How do I reset my XYZ Wireless Earbuds?\")"
   ]
  },
  {
   "cell_type": "code",
   "execution_count": 6,
   "id": "60d73a30",
   "metadata": {},
   "outputs": [
    {
     "name": "stdout",
     "output_type": "stream",
     "text": [
      "\n",
      "--- User Query: What's the warranty on these earbuds? ---\n",
      "Query embedded.\n",
      "Retrieved 2 relevant chunks:\n",
      "  - Source: product_docs\\faq_warranty.txt, Score: 0.7710, Text: 'Q: What devices are compatible?\n",
      "A: The earbuds are compatible with any Bluetooth-enabled device, inc...'\n",
      "  - Source: product_docs\\troubleshooting_guide.txt, Score: 0.7686, Text: 'Issue: Low volume or distorted sound.\n",
      "Solution:\n",
      "1. Check the volume level on your connected device.\n",
      "...'\n",
      "\n",
      "--- Augmented Prompt for LLM (truncated for display) ---\n",
      "\n",
      "You are a helpful customer support assistant for XYZ Wireless Earbuds.\n",
      "Use ONLY the following pieces of context to answer the question.\n",
      "If the answer is not found in the context, politely state that you don't have enough information.\n",
      "\n",
      "Context:\n",
      "Q: What devices are compatible?\n",
      "A: The earbuds are compatible with any Bluetooth-enabled device, including smartphones, tablets, and laptops.\n",
      "\n",
      "Issue: Low volume or distorted sound.\n",
      "Solution:\n",
      "1. Check the volume level on your connected device.\n",
      "2. Ensure th...\n",
      "\n",
      "--- Chatbot's Response ---\n",
      "If you're experiencing low volume or distorted sound, check your device's volume, ensure no obstruction in the earbud's speaker grill, and try playing audio from a different source. Cleaning the earbuds might also help.\n",
      "--------------------------------------------------\n"
     ]
    },
    {
     "data": {
      "text/plain": [
       "\"If you're experiencing low volume or distorted sound, check your device's volume, ensure no obstruction in the earbud's speaker grill, and try playing audio from a different source. Cleaning the earbuds might also help.\""
      ]
     },
     "execution_count": 6,
     "metadata": {},
     "output_type": "execute_result"
    }
   ],
   "source": [
    "rag_chatbot_query(\"What's the warranty on these earbuds?\")"
   ]
  },
  {
   "cell_type": "code",
   "execution_count": 7,
   "id": "345d16ef",
   "metadata": {},
   "outputs": [
    {
     "name": "stdout",
     "output_type": "stream",
     "text": [
      "\n",
      "--- User Query: Can I take my XYZ Earbuds swimming? ---\n",
      "Query embedded.\n",
      "Retrieved 2 relevant chunks:\n",
      "  - Source: product_docs\\product_manual_xyz.txt, Score: 0.7618, Text: '6. Resetting the Earbuds:\n",
      "   To reset your XYZ Wireless Earbuds to factory settings, place both earb...'\n",
      "  - Source: product_docs\\troubleshooting_guide.txt, Score: 0.7582, Text: 'Issue: Earbuds not charging.\n",
      "Solution: Ensure the charging case has power. Check the charging cable ...'\n",
      "\n",
      "--- Augmented Prompt for LLM (truncated for display) ---\n",
      "\n",
      "You are a helpful customer support assistant for XYZ Wireless Earbuds.\n",
      "Use ONLY the following pieces of context to answer the question.\n",
      "If the answer is not found in the context, politely state that you don't have enough information.\n",
      "\n",
      "Context:\n",
      "6. Resetting the Earbuds:\n",
      "   To reset your XYZ Wireless Earbuds to factory settings, place both earbuds in the charging case. Press and hold the button on the charging case for 15 seconds until the LED light blinks red three times. Then, close the case an...\n",
      "\n",
      "--- Chatbot's Response ---\n",
      "Based on the provided information, to reset your XYZ Wireless Earbuds, place both earbuds in the charging case, then press and hold the button on the charging case for 15 seconds until the LED light blinks red three times. After that, close the case and reopen it.\n",
      "--------------------------------------------------\n"
     ]
    },
    {
     "data": {
      "text/plain": [
       "'Based on the provided information, to reset your XYZ Wireless Earbuds, place both earbuds in the charging case, then press and hold the button on the charging case for 15 seconds until the LED light blinks red three times. After that, close the case and reopen it.'"
      ]
     },
     "execution_count": 7,
     "metadata": {},
     "output_type": "execute_result"
    }
   ],
   "source": [
    "rag_chatbot_query(\"Can I take my XYZ Earbuds swimming?\")"
   ]
  },
  {
   "cell_type": "code",
   "execution_count": 8,
   "id": "785d8f80",
   "metadata": {},
   "outputs": [
    {
     "name": "stdout",
     "output_type": "stream",
     "text": [
      "\n",
      "--- User Query: My left earbud is not making any sound. What should I do? ---\n",
      "Query embedded.\n",
      "Retrieved 2 relevant chunks:\n",
      "  - Source: product_docs\\troubleshooting_guide.txt, Score: 0.7687, Text: 'Issue: Earbuds not charging.\n",
      "Solution: Ensure the charging case has power. Check the charging cable ...'\n",
      "  - Source: product_docs\\product_manual_xyz.txt, Score: 0.7659, Text: 'Product Manual for XYZ Wireless Earbuds...'\n",
      "\n",
      "--- Augmented Prompt for LLM (truncated for display) ---\n",
      "\n",
      "You are a helpful customer support assistant for XYZ Wireless Earbuds.\n",
      "Use ONLY the following pieces of context to answer the question.\n",
      "If the answer is not found in the context, politely state that you don't have enough information.\n",
      "\n",
      "Context:\n",
      "Issue: Earbuds not charging.\n",
      "Solution: Ensure the charging case has power. Check the charging cable and adapter. Clean the charging contacts on both earbuds and the case with a dry cotton swab. If still not charging, contact support.\n",
      "\n",
      "Product Manual for X...\n",
      "\n",
      "--- Chatbot's Response ---\n",
      "I couldn't find specific information about that in my current knowledge base. Could you please rephrase your question or provide more details? You can also visit our website for comprehensive support.\n",
      "--------------------------------------------------\n"
     ]
    },
    {
     "data": {
      "text/plain": [
       "\"I couldn't find specific information about that in my current knowledge base. Could you please rephrase your question or provide more details? You can also visit our website for comprehensive support.\""
      ]
     },
     "execution_count": 8,
     "metadata": {},
     "output_type": "execute_result"
    }
   ],
   "source": [
    "rag_chatbot_query(\"My left earbud is not making any sound. What should I do?\")"
   ]
  },
  {
   "cell_type": "code",
   "execution_count": 9,
   "id": "a1ad9812",
   "metadata": {},
   "outputs": [
    {
     "name": "stdout",
     "output_type": "stream",
     "text": [
      "\n",
      "--- User Query: Tell me about the history of artificial intelligence. ---\n",
      "Query embedded.\n",
      "Retrieved 2 relevant chunks:\n",
      "  - Source: product_docs\\troubleshooting_guide.txt, Score: 0.7707, Text: 'Issue: Low volume or distorted sound.\n",
      "Solution:\n",
      "1. Check the volume level on your connected device.\n",
      "...'\n",
      "  - Source: product_docs\\faq_warranty.txt, Score: 0.7694, Text: 'Q: What devices are compatible?\n",
      "A: The earbuds are compatible with any Bluetooth-enabled device, inc...'\n",
      "\n",
      "--- Augmented Prompt for LLM (truncated for display) ---\n",
      "\n",
      "You are a helpful customer support assistant for XYZ Wireless Earbuds.\n",
      "Use ONLY the following pieces of context to answer the question.\n",
      "If the answer is not found in the context, politely state that you don't have enough information.\n",
      "\n",
      "Context:\n",
      "Issue: Low volume or distorted sound.\n",
      "Solution:\n",
      "1. Check the volume level on your connected device.\n",
      "2. Ensure there's no obstruction in the earbud's speaker grill.\n",
      "3. Try playing audio from a different source to rule out the media file.\n",
      "4. Clean the earbu...\n",
      "\n",
      "--- Chatbot's Response ---\n",
      "If you're experiencing low volume or distorted sound, check your device's volume, ensure no obstruction in the earbud's speaker grill, and try playing audio from a different source. Cleaning the earbuds might also help.\n",
      "--------------------------------------------------\n"
     ]
    },
    {
     "data": {
      "text/plain": [
       "\"If you're experiencing low volume or distorted sound, check your device's volume, ensure no obstruction in the earbud's speaker grill, and try playing audio from a different source. Cleaning the earbuds might also help.\""
      ]
     },
     "execution_count": 9,
     "metadata": {},
     "output_type": "execute_result"
    }
   ],
   "source": [
    "rag_chatbot_query(\"Tell me about the history of artificial intelligence.\") # Out of scope question"
   ]
  },
  {
   "cell_type": "code",
   "execution_count": 10,
   "id": "6312cb82",
   "metadata": {},
   "outputs": [
    {
     "name": "stdout",
     "output_type": "stream",
     "text": [
      "\n",
      "--- User Query: How long does it take to charge the case? ---\n",
      "Query embedded.\n",
      "Retrieved 2 relevant chunks:\n",
      "  - Source: product_docs\\faq_warranty.txt, Score: 0.7669, Text: 'Q: What devices are compatible?\n",
      "A: The earbuds are compatible with any Bluetooth-enabled device, inc...'\n",
      "  - Source: product_docs\\troubleshooting_guide.txt, Score: 0.7637, Text: 'Issue: Earbuds not charging.\n",
      "Solution: Ensure the charging case has power. Check the charging cable ...'\n",
      "\n",
      "--- Augmented Prompt for LLM (truncated for display) ---\n",
      "\n",
      "You are a helpful customer support assistant for XYZ Wireless Earbuds.\n",
      "Use ONLY the following pieces of context to answer the question.\n",
      "If the answer is not found in the context, politely state that you don't have enough information.\n",
      "\n",
      "Context:\n",
      "Q: What devices are compatible?\n",
      "A: The earbuds are compatible with any Bluetooth-enabled device, including smartphones, tablets, and laptops.\n",
      "\n",
      "Issue: Earbuds not charging.\n",
      "Solution: Ensure the charging case has power. Check the charging cable and adapter....\n",
      "\n",
      "--- Chatbot's Response ---\n",
      "I couldn't find specific information about that in my current knowledge base. Could you please rephrase your question or provide more details? You can also visit our website for comprehensive support.\n",
      "--------------------------------------------------\n"
     ]
    },
    {
     "data": {
      "text/plain": [
       "\"I couldn't find specific information about that in my current knowledge base. Could you please rephrase your question or provide more details? You can also visit our website for comprehensive support.\""
      ]
     },
     "execution_count": 10,
     "metadata": {},
     "output_type": "execute_result"
    }
   ],
   "source": [
    "rag_chatbot_query(\"How long does it take to charge the case?\")"
   ]
  },
  {
   "cell_type": "markdown",
   "id": "8263e76a",
   "metadata": {},
   "source": [
    "## 6. Cleanup (Optional)\n",
    "\n",
    "You can run this cell to remove the dummy product document files after you're done."
   ]
  },
  {
   "cell_type": "code",
   "execution_count": 11,
   "id": "0275f790",
   "metadata": {},
   "outputs": [
    {
     "data": {
      "text/plain": [
       "'\\nimport shutil\\n\\nif os.path.exists(DOCS_DIR):\\n    shutil.rmtree(DOCS_DIR)\\n    print(f\"Removed directory: {DOCS_DIR}\")\\nelse:\\n    print(f\"Directory {DOCS_DIR} not found, no cleanup needed.\")\\n'"
      ]
     },
     "execution_count": 11,
     "metadata": {},
     "output_type": "execute_result"
    }
   ],
   "source": [
    "\"\"\"\n",
    "import shutil\n",
    "\n",
    "if os.path.exists(DOCS_DIR):\n",
    "    shutil.rmtree(DOCS_DIR)\n",
    "    print(f\"Removed directory: {DOCS_DIR}\")\n",
    "else:\n",
    "    print(f\"Directory {DOCS_DIR} not found, no cleanup needed.\")\n",
    "\"\"\""
   ]
  }
 ],
 "metadata": {
  "kernelspec": {
   "display_name": "Python 3 (ipykernel)",
   "language": "python",
   "name": "python3"
  },
  "language_info": {
   "codemirror_mode": {
    "name": "ipython",
    "version": 3
   },
   "file_extension": ".py",
   "mimetype": "text/x-python",
   "name": "python",
   "nbconvert_exporter": "python",
   "pygments_lexer": "ipython3",
   "version": "3.10.4"
  }
 },
 "nbformat": 4,
 "nbformat_minor": 5
}
